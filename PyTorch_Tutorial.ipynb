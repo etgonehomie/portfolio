{
  "nbformat": 4,
  "nbformat_minor": 0,
  "metadata": {
    "colab": {
      "provenance": [],
      "authorship_tag": "ABX9TyOuap56njwrFXjyABwxifMh",
      "include_colab_link": true
    },
    "kernelspec": {
      "name": "python3",
      "display_name": "Python 3"
    },
    "language_info": {
      "name": "python"
    }
  },
  "cells": [
    {
      "cell_type": "markdown",
      "metadata": {
        "id": "view-in-github",
        "colab_type": "text"
      },
      "source": [
        "<a href=\"https://colab.research.google.com/github/etgonehomie/portfolio/blob/main/PyTorch_Tutorial.ipynb\" target=\"_parent\"><img src=\"https://colab.research.google.com/assets/colab-badge.svg\" alt=\"Open In Colab\"/></a>"
      ]
    },
    {
      "cell_type": "code",
      "execution_count": 1,
      "metadata": {
        "colab": {
          "base_uri": "https://localhost:8080/"
        },
        "id": "ikxqRp_uAlRb",
        "outputId": "4f9d8b65-6427-45ef-a8da-54ff8fb5d1e5"
      },
      "outputs": [
        {
          "output_type": "stream",
          "name": "stdout",
          "text": [
            "2.4.0+cu121\n"
          ]
        }
      ],
      "source": [
        "import torch\n",
        "import pandas as pd\n",
        "import numpy as np\n",
        "import matplotlib.pyplot as plt\n",
        "print(torch.__version__)\n"
      ]
    },
    {
      "cell_type": "markdown",
      "source": [
        "# Introduction to Tensors"
      ],
      "metadata": {
        "id": "CfUtuDwdS5Xx"
      }
    },
    {
      "cell_type": "code",
      "source": [
        "# `.rand` creates a random tensor with size defined\n",
        "t1 = torch.rand(2,3)\n",
        "t2 = torch.rand(3,2)\n",
        "t_combine = t1 @ t2   # matrix multiplication\n",
        "\n",
        "print(t_combine)"
      ],
      "metadata": {
        "colab": {
          "base_uri": "https://localhost:8080/"
        },
        "id": "TbFtuSvKCCtX",
        "outputId": "085b31cc-9df9-438a-edc7-d2d20c241d1b"
      },
      "execution_count": 2,
      "outputs": [
        {
          "output_type": "stream",
          "name": "stdout",
          "text": [
            "tensor([[0.6922, 0.6006],\n",
            "        [0.9691, 0.5689]])\n"
          ]
        }
      ]
    },
    {
      "cell_type": "code",
      "source": [
        "# TODO: How to do a dot multiplication for higher values\n",
        "# http://matrixmultiplication.xyz/ <- Visualization for 2d matrix\n",
        "t3 = torch.rand(3,4,5,9)\n",
        "t4 = torch.rand(9,7)\n",
        "t2_combine = t3 @ t4\n",
        "print(t_combine)"
      ],
      "metadata": {
        "colab": {
          "base_uri": "https://localhost:8080/"
        },
        "id": "87r5eizdCguE",
        "outputId": "c01eb0c4-daca-46fd-eae5-f948959a7fda"
      },
      "execution_count": 3,
      "outputs": [
        {
          "output_type": "stream",
          "name": "stdout",
          "text": [
            "tensor([[0.6922, 0.6006],\n",
            "        [0.9691, 0.5689]])\n"
          ]
        }
      ]
    },
    {
      "cell_type": "code",
      "source": [
        "# Tensors with 0s or 1s\n",
        "zeros = torch.zeros(4,5)\n",
        "ones = torch.ones(4,5)\n",
        "print(ones)\n",
        "print(zeros)\n",
        "\n",
        "# Tensors within a range\n",
        "tensor_r = torch.range(start=1, end=10, step=1)\n",
        "print(tensor_r)\n",
        "\n",
        "# To get a tensor shape and make it all zeros or ones\n",
        "zeros_like = torch.zeros_like(t1)\n",
        "ones_like = torch.ones_like(t2)\n",
        "print(zeros_like)\n",
        "print(ones_like)"
      ],
      "metadata": {
        "colab": {
          "base_uri": "https://localhost:8080/"
        },
        "id": "DSTyFzZIFX7j",
        "outputId": "2ea9448b-56a0-4410-cdae-92c098a3021a"
      },
      "execution_count": 4,
      "outputs": [
        {
          "output_type": "stream",
          "name": "stdout",
          "text": [
            "tensor([[1., 1., 1., 1., 1.],\n",
            "        [1., 1., 1., 1., 1.],\n",
            "        [1., 1., 1., 1., 1.],\n",
            "        [1., 1., 1., 1., 1.]])\n",
            "tensor([[0., 0., 0., 0., 0.],\n",
            "        [0., 0., 0., 0., 0.],\n",
            "        [0., 0., 0., 0., 0.],\n",
            "        [0., 0., 0., 0., 0.]])\n",
            "tensor([ 1.,  2.,  3.,  4.,  5.,  6.,  7.,  8.,  9., 10.])\n",
            "tensor([[0., 0., 0.],\n",
            "        [0., 0., 0.]])\n",
            "tensor([[1., 1.],\n",
            "        [1., 1.],\n",
            "        [1., 1.]])\n"
          ]
        },
        {
          "output_type": "stream",
          "name": "stderr",
          "text": [
            "<ipython-input-4-66b3ae5b4eab>:8: UserWarning: torch.range is deprecated and will be removed in a future release because its behavior is inconsistent with Python's range builtin. Instead, use torch.arange, which produces values in [start, end).\n",
            "  tensor_r = torch.range(start=1, end=10, step=1)\n"
          ]
        }
      ]
    },
    {
      "cell_type": "code",
      "source": [
        "# Can transpose to dot multiply\n",
        "t5 = torch.rand(2,3)\n",
        "t6 = torch.rand(2,3)\n",
        "t3_combine = t5 @ t6.T\n",
        "print(t3_combine)"
      ],
      "metadata": {
        "colab": {
          "base_uri": "https://localhost:8080/"
        },
        "id": "d1mekR8DGQqz",
        "outputId": "88451a57-eead-4566-fea1-df9587ed0f7b"
      },
      "execution_count": 5,
      "outputs": [
        {
          "output_type": "stream",
          "name": "stdout",
          "text": [
            "tensor([[0.8398, 1.0395],\n",
            "        [0.6792, 0.7862]])\n"
          ]
        }
      ]
    },
    {
      "cell_type": "code",
      "source": [
        "# Aggregations\n",
        "t_agg = torch.rand(4,7)\n",
        "t_max = t_agg.max()\n",
        "t_min = t_agg.min()\n",
        "t_mean = t_agg.mean()\n",
        "t_sum = t_agg.sum()\n",
        "print(t_agg)\n",
        "print(f'Max: {t_max}')\n",
        "print(f'Min: {t_min}')\n",
        "print(f'Mean: {t_mean}')\n",
        "print(f'Sum: {t_sum}')"
      ],
      "metadata": {
        "colab": {
          "base_uri": "https://localhost:8080/"
        },
        "id": "WU8HasNEHpqA",
        "outputId": "0754b3df-e454-4a26-9ae4-e4fd5087fb4d"
      },
      "execution_count": 6,
      "outputs": [
        {
          "output_type": "stream",
          "name": "stdout",
          "text": [
            "tensor([[0.1513, 0.8504, 0.9002, 0.7814, 0.1849, 0.5865, 0.4589],\n",
            "        [0.1647, 0.5760, 0.4420, 0.4925, 0.0296, 0.6783, 0.2306],\n",
            "        [0.9689, 0.8721, 0.1968, 0.6835, 0.0916, 0.5913, 0.1226],\n",
            "        [0.8681, 0.8392, 0.8609, 0.0163, 0.9933, 0.4880, 0.5990]])\n",
            "Max: 0.9933382868766785\n",
            "Min: 0.016260862350463867\n",
            "Mean: 0.5256691575050354\n",
            "Sum: 14.71873664855957\n"
          ]
        }
      ]
    },
    {
      "cell_type": "markdown",
      "source": [
        "## Tensor Manipulation\n",
        "\n",
        "All used to change the shape or dimension since we need proper shape for dot multiplication\n",
        "\n",
        "* Reshaping: reshapes an input tensor to defined shape. It intelligently copies if needed.\n",
        "* View: return a view of tensor, but doesn't actually change the input. Never copies data and is only a reference to the original.\n",
        "* Stacking: combine multi tensors on top (vstack) or side-by-side (horizontal). Basically like a union in SQL\n",
        "* Squeeze: removes all `1` dimensions from a tensor\n",
        "* Unsqueeze: add a `1` dimension to a target tensor\n",
        "* Permute: Return a view of the tensor swapped in a certain way"
      ],
      "metadata": {
        "id": "tfSllD8RTLhm"
      }
    },
    {
      "cell_type": "code",
      "source": [
        "# Reshaping, the number has to match the original l*w*h*z,etc.\n",
        "# https://myscale.com/blog/torch-reshape-vs-torch-view-pytorch/\n",
        "# https://neuralthreads.medium.com/understanding-the-reshaping-of-a-tensor-4dd1795e12bf\n",
        "x = torch.arange(1, 10) # 10 shape\n",
        "\n",
        "print(x)\n",
        "x_reshaped = x.reshape(9,1)\n",
        "print(x_reshaped)\n"
      ],
      "metadata": {
        "colab": {
          "base_uri": "https://localhost:8080/"
        },
        "id": "fum-DdsRTIWt",
        "outputId": "69de330e-998a-41ee-a5a3-36ce174927f6"
      },
      "execution_count": 7,
      "outputs": [
        {
          "output_type": "stream",
          "name": "stdout",
          "text": [
            "tensor([1, 2, 3, 4, 5, 6, 7, 8, 9])\n",
            "tensor([[1],\n",
            "        [2],\n",
            "        [3],\n",
            "        [4],\n",
            "        [5],\n",
            "        [6],\n",
            "        [7],\n",
            "        [8],\n",
            "        [9]])\n"
          ]
        }
      ]
    },
    {
      "cell_type": "code",
      "source": [
        "x2 = torch.rand(2, 20, 2, 3) # 240 shape\n",
        "print(x2.shape)\n",
        "x2_reshaped = x2.reshape(2,5,3,2,2, 2)\n",
        "print(x2_reshaped)"
      ],
      "metadata": {
        "colab": {
          "base_uri": "https://localhost:8080/"
        },
        "id": "MX4RGojLevyB",
        "outputId": "ab51db45-50ef-4527-d482-f87c760a5480"
      },
      "execution_count": 8,
      "outputs": [
        {
          "output_type": "stream",
          "name": "stdout",
          "text": [
            "torch.Size([2, 20, 2, 3])\n",
            "tensor([[[[[[0.0356, 0.5248],\n",
            "            [0.4262, 0.0882]],\n",
            "\n",
            "           [[0.5487, 0.1037],\n",
            "            [0.6727, 0.7654]]],\n",
            "\n",
            "\n",
            "          [[[0.4943, 0.0888],\n",
            "            [0.9277, 0.9675]],\n",
            "\n",
            "           [[0.1408, 0.5081],\n",
            "            [0.2400, 0.0157]]],\n",
            "\n",
            "\n",
            "          [[[0.2495, 0.6727],\n",
            "            [0.0681, 0.6970]],\n",
            "\n",
            "           [[0.3193, 0.5380],\n",
            "            [0.6007, 0.9990]]]],\n",
            "\n",
            "\n",
            "\n",
            "         [[[[0.0271, 0.1433],\n",
            "            [0.3041, 0.0838]],\n",
            "\n",
            "           [[0.8436, 0.4891],\n",
            "            [0.5128, 0.9332]]],\n",
            "\n",
            "\n",
            "          [[[0.6192, 0.2281],\n",
            "            [0.0297, 0.2898]],\n",
            "\n",
            "           [[0.6511, 0.1528],\n",
            "            [0.5391, 0.6040]]],\n",
            "\n",
            "\n",
            "          [[[0.1642, 0.0527],\n",
            "            [0.7392, 0.9154]],\n",
            "\n",
            "           [[0.7698, 0.4593],\n",
            "            [0.8828, 0.7059]]]],\n",
            "\n",
            "\n",
            "\n",
            "         [[[[0.2176, 0.8198],\n",
            "            [0.4778, 0.9943]],\n",
            "\n",
            "           [[0.5378, 0.2108],\n",
            "            [0.9271, 0.8879]]],\n",
            "\n",
            "\n",
            "          [[[0.5560, 0.6642],\n",
            "            [0.9081, 0.4895]],\n",
            "\n",
            "           [[0.4265, 0.0967],\n",
            "            [0.2549, 0.8589]]],\n",
            "\n",
            "\n",
            "          [[[0.9049, 0.0503],\n",
            "            [0.2307, 0.7933]],\n",
            "\n",
            "           [[0.1151, 0.4429],\n",
            "            [0.0371, 0.4863]]]],\n",
            "\n",
            "\n",
            "\n",
            "         [[[[0.6354, 0.4140],\n",
            "            [0.6566, 0.9948]],\n",
            "\n",
            "           [[0.6357, 0.2522],\n",
            "            [0.5180, 0.4473]]],\n",
            "\n",
            "\n",
            "          [[[0.7981, 0.2425],\n",
            "            [0.7374, 0.1338]],\n",
            "\n",
            "           [[0.5030, 0.7040],\n",
            "            [0.6838, 0.4956]]],\n",
            "\n",
            "\n",
            "          [[[0.5221, 0.0240],\n",
            "            [0.9605, 0.2707]],\n",
            "\n",
            "           [[0.4272, 0.8302],\n",
            "            [0.5564, 0.4300]]]],\n",
            "\n",
            "\n",
            "\n",
            "         [[[[0.4591, 0.8668],\n",
            "            [0.4492, 0.1475]],\n",
            "\n",
            "           [[0.8262, 0.7513],\n",
            "            [0.9447, 0.1928]]],\n",
            "\n",
            "\n",
            "          [[[0.4992, 0.7676],\n",
            "            [0.6751, 0.5114]],\n",
            "\n",
            "           [[0.7194, 0.7468],\n",
            "            [0.1336, 0.3925]]],\n",
            "\n",
            "\n",
            "          [[[0.1436, 0.2220],\n",
            "            [0.8703, 0.8235]],\n",
            "\n",
            "           [[0.5496, 0.9456],\n",
            "            [0.6558, 0.6227]]]]],\n",
            "\n",
            "\n",
            "\n",
            "\n",
            "        [[[[[0.5254, 0.7040],\n",
            "            [0.8994, 0.2489]],\n",
            "\n",
            "           [[0.2263, 0.9637],\n",
            "            [0.9518, 0.6850]]],\n",
            "\n",
            "\n",
            "          [[[0.2493, 0.7026],\n",
            "            [0.0843, 0.8881]],\n",
            "\n",
            "           [[0.7609, 0.3096],\n",
            "            [0.7772, 0.8135]]],\n",
            "\n",
            "\n",
            "          [[[0.9098, 0.7389],\n",
            "            [0.0083, 0.4570]],\n",
            "\n",
            "           [[0.1042, 0.4590],\n",
            "            [0.9771, 0.6009]]]],\n",
            "\n",
            "\n",
            "\n",
            "         [[[[0.9683, 0.7919],\n",
            "            [0.2244, 0.3289]],\n",
            "\n",
            "           [[0.5853, 0.1068],\n",
            "            [0.6037, 0.6080]]],\n",
            "\n",
            "\n",
            "          [[[0.6563, 0.2169],\n",
            "            [0.2693, 0.3100]],\n",
            "\n",
            "           [[0.0116, 0.0369],\n",
            "            [0.9510, 0.3413]]],\n",
            "\n",
            "\n",
            "          [[[0.1825, 0.6441],\n",
            "            [0.3042, 0.6676]],\n",
            "\n",
            "           [[0.3127, 0.3897],\n",
            "            [0.0770, 0.0547]]]],\n",
            "\n",
            "\n",
            "\n",
            "         [[[[0.9464, 0.8794],\n",
            "            [0.3058, 0.7139]],\n",
            "\n",
            "           [[0.6821, 0.6268],\n",
            "            [0.7070, 0.9158]]],\n",
            "\n",
            "\n",
            "          [[[0.4085, 0.1906],\n",
            "            [0.8530, 0.4396]],\n",
            "\n",
            "           [[0.1174, 0.0654],\n",
            "            [0.0220, 0.7127]]],\n",
            "\n",
            "\n",
            "          [[[0.9123, 0.5435],\n",
            "            [0.8122, 0.5375]],\n",
            "\n",
            "           [[0.6597, 0.5442],\n",
            "            [0.3130, 0.6105]]]],\n",
            "\n",
            "\n",
            "\n",
            "         [[[[0.5844, 0.1967],\n",
            "            [0.2713, 0.0647]],\n",
            "\n",
            "           [[0.1201, 0.4898],\n",
            "            [0.8748, 0.8842]]],\n",
            "\n",
            "\n",
            "          [[[0.8062, 0.5318],\n",
            "            [0.1162, 0.7316]],\n",
            "\n",
            "           [[0.8644, 0.5871],\n",
            "            [0.5215, 0.6742]]],\n",
            "\n",
            "\n",
            "          [[[0.8313, 0.3338],\n",
            "            [0.8308, 0.2078]],\n",
            "\n",
            "           [[0.3303, 0.6553],\n",
            "            [0.0244, 0.1588]]]],\n",
            "\n",
            "\n",
            "\n",
            "         [[[[0.6064, 0.1089],\n",
            "            [0.8874, 0.1379]],\n",
            "\n",
            "           [[0.9869, 0.7598],\n",
            "            [0.9057, 0.9905]]],\n",
            "\n",
            "\n",
            "          [[[0.6760, 0.9260],\n",
            "            [0.2701, 0.7257]],\n",
            "\n",
            "           [[0.5918, 0.9965],\n",
            "            [0.6267, 0.8298]]],\n",
            "\n",
            "\n",
            "          [[[0.6895, 0.5402],\n",
            "            [0.5669, 0.3226]],\n",
            "\n",
            "           [[0.1327, 0.7684],\n",
            "            [0.5373, 0.5406]]]]]])\n"
          ]
        }
      ]
    },
    {
      "cell_type": "code",
      "source": [
        "# Stacking - basically concat for tensors\n",
        "x = torch.arange(1, 10)\n",
        "x_stacked = torch.stack([x, x, x, x], dim=0)\n",
        "x_vstack = torch.vstack(tensors = [x,x,x])\n",
        "print(x_stacked)\n",
        "print(x_vstack)\n",
        "\n",
        "x2_stacked = torch.stack([x,x,x], dim=1)\n",
        "x_hstack = torch.hstack(tensors = [x,x,x])\n",
        "print(x2_stacked)\n",
        "print(x_hstack)"
      ],
      "metadata": {
        "id": "loWptKicewyR",
        "colab": {
          "base_uri": "https://localhost:8080/"
        },
        "outputId": "7fa4f672-b930-4e16-ae98-312d897b729e"
      },
      "execution_count": 18,
      "outputs": [
        {
          "output_type": "stream",
          "name": "stdout",
          "text": [
            "tensor([[1, 2, 3, 4, 5, 6, 7, 8, 9],\n",
            "        [1, 2, 3, 4, 5, 6, 7, 8, 9],\n",
            "        [1, 2, 3, 4, 5, 6, 7, 8, 9],\n",
            "        [1, 2, 3, 4, 5, 6, 7, 8, 9]])\n",
            "tensor([[1, 2, 3, 4, 5, 6, 7, 8, 9],\n",
            "        [1, 2, 3, 4, 5, 6, 7, 8, 9],\n",
            "        [1, 2, 3, 4, 5, 6, 7, 8, 9]])\n",
            "tensor([[1, 1, 1],\n",
            "        [2, 2, 2],\n",
            "        [3, 3, 3],\n",
            "        [4, 4, 4],\n",
            "        [5, 5, 5],\n",
            "        [6, 6, 6],\n",
            "        [7, 7, 7],\n",
            "        [8, 8, 8],\n",
            "        [9, 9, 9]])\n",
            "tensor([1, 2, 3, 4, 5, 6, 7, 8, 9, 1, 2, 3, 4, 5, 6, 7, 8, 9, 1, 2, 3, 4, 5, 6,\n",
            "        7, 8, 9])\n"
          ]
        }
      ]
    },
    {
      "cell_type": "code",
      "source": [
        "# Squeezing\n",
        "x = torch.arange(1,10)\n",
        "x = torch.rand(10,1,1)\n",
        "x_squeeze = x.squeeze()\n",
        "print(x)\n",
        "print(x_squeeze)"
      ],
      "metadata": {
        "id": "MIwzDk5tewm3",
        "colab": {
          "base_uri": "https://localhost:8080/"
        },
        "outputId": "cc33f975-1f87-4b3e-ad20-1112ba5da574"
      },
      "execution_count": 32,
      "outputs": [
        {
          "output_type": "stream",
          "name": "stdout",
          "text": [
            "tensor([[[0.2790]],\n",
            "\n",
            "        [[0.1668]],\n",
            "\n",
            "        [[0.0714]],\n",
            "\n",
            "        [[0.0627]],\n",
            "\n",
            "        [[0.3943]],\n",
            "\n",
            "        [[0.3729]],\n",
            "\n",
            "        [[0.3600]],\n",
            "\n",
            "        [[0.7054]],\n",
            "\n",
            "        [[0.7225]],\n",
            "\n",
            "        [[0.5834]]])\n",
            "tensor([0.2790, 0.1668, 0.0714, 0.0627, 0.3943, 0.3729, 0.3600, 0.7054, 0.7225,\n",
            "        0.5834])\n"
          ]
        }
      ]
    },
    {
      "cell_type": "code",
      "source": [
        "# Permute - changing the order of dimensions. It is just a VIEW. Uses same memory\n",
        "x = torch.rand(224, 128, 3) # height, width, color_channels\n",
        "x_permute = x.permute(2, 0, 1) # color_channels, height, width\n",
        "print(x.shape)\n",
        "print(x_permute.shape)"
      ],
      "metadata": {
        "colab": {
          "base_uri": "https://localhost:8080/"
        },
        "id": "Boq03nPn17f9",
        "outputId": "414b4a80-20be-4bf3-82d3-307c567f704e"
      },
      "execution_count": 36,
      "outputs": [
        {
          "output_type": "stream",
          "name": "stdout",
          "text": [
            "torch.Size([224, 128, 3])\n",
            "torch.Size([3, 224, 128])\n"
          ]
        }
      ]
    },
    {
      "cell_type": "markdown",
      "source": [
        "## Selecting Data\n",
        "- same as selecting data in numpy or an array of arrays"
      ],
      "metadata": {
        "id": "mzkCJYdi2voY"
      }
    },
    {
      "cell_type": "code",
      "source": [
        "# Indexing\n",
        "x = torch.arange(1, 10).reshape(1, 3, 3)\n",
        "print(x)\n",
        "print(x[0]) # selects everything on the 0 dimension (the whole matrix)\n",
        "print(x[0][1]) # selects the 2nd row of the 0 dimension\n",
        "print(x[0][2][2]) # selects the 3rd cell of the 3rd row of the 0 dimesion\n",
        "\n",
        "# use \":\" to select all of a given dimension\n",
        "print(x[:, 0]) # select all of 1st dim, but just select the 1st row"
      ],
      "metadata": {
        "colab": {
          "base_uri": "https://localhost:8080/"
        },
        "id": "xyPkPbrS2yF4",
        "outputId": "a701130d-3d05-4b8a-a8a2-cfc5d5f92224"
      },
      "execution_count": 40,
      "outputs": [
        {
          "output_type": "stream",
          "name": "stdout",
          "text": [
            "tensor([[[1, 2, 3],\n",
            "         [4, 5, 6],\n",
            "         [7, 8, 9]]])\n",
            "tensor([[1, 2, 3],\n",
            "        [4, 5, 6],\n",
            "        [7, 8, 9]])\n",
            "tensor([4, 5, 6])\n",
            "tensor(9)\n",
            "tensor([[1, 2, 3]])\n"
          ]
        }
      ]
    },
    {
      "cell_type": "code",
      "source": [
        "# get all values of the 0th and 1st dim, but only index 1 of the 2nd dim\n",
        "print(x[:, :, 1])"
      ],
      "metadata": {
        "colab": {
          "base_uri": "https://localhost:8080/"
        },
        "id": "XwcOaPT29sK7",
        "outputId": "d9fda04d-c8ff-49d4-e777-f28245d2279e"
      },
      "execution_count": 46,
      "outputs": [
        {
          "output_type": "stream",
          "name": "stdout",
          "text": [
            "tensor([[3, 6, 9]])\n"
          ]
        }
      ]
    },
    {
      "cell_type": "code",
      "source": [
        "# Geta ll values of the 0th dim, but only the 1 index value of 1st and 2nd dim\n",
        "print(x[:,1,1])"
      ],
      "metadata": {
        "colab": {
          "base_uri": "https://localhost:8080/"
        },
        "id": "ZT6i6iuO-IRk",
        "outputId": "acc52371-9e7c-4ad6-9f27-8e856a6a9018"
      },
      "execution_count": 45,
      "outputs": [
        {
          "output_type": "stream",
          "name": "stdout",
          "text": [
            "tensor([5])\n"
          ]
        }
      ]
    },
    {
      "cell_type": "markdown",
      "source": [
        "## NumPy & PyTorch Integration\n",
        "- data in numpy -> pytorch: `torch.from_numpy(ndarray)`\n",
        "- data in pytorch -> numpy: `torch.Tensor.numpy()`"
      ],
      "metadata": {
        "id": "wPBOEDis-pr6"
      }
    },
    {
      "cell_type": "code",
      "source": [
        "# Numpy -> Tensor\n",
        "# Default dtype for numpy: float64\n",
        "# Default dtype for torch: float32\n",
        "\n",
        "array = np.arange(1.0, 8.0)\n",
        "tensor = torch.from_numpy(array)\n",
        "print(array)\n",
        "print(tensor)\n",
        "print(array.dtype)\n",
        "print(tensor.dtype)\n",
        "\n",
        "default_t = torch.arange(1.0, 8.0)\n",
        "print(default_t.dtype)\n",
        "\n",
        "# to change the dtype for a numpy array use .type\n",
        "tensor2 = torch.from_numpy(array).type(torch.float32)\n",
        "print(tensor2.dtype)"
      ],
      "metadata": {
        "colab": {
          "base_uri": "https://localhost:8080/"
        },
        "id": "WRZFMHJI-29G",
        "outputId": "3f8cb8c4-01ce-4216-a7da-25cb13bb9ac8"
      },
      "execution_count": 49,
      "outputs": [
        {
          "output_type": "stream",
          "name": "stdout",
          "text": [
            "[1. 2. 3. 4. 5. 6. 7.]\n",
            "tensor([1., 2., 3., 4., 5., 6., 7.], dtype=torch.float64)\n",
            "float64\n",
            "torch.float64\n",
            "torch.float32\n",
            "torch.float32\n"
          ]
        }
      ]
    },
    {
      "cell_type": "code",
      "source": [
        "# Tensor -> Numpy\n",
        "# Be sure to convert tensor to 64 since numpy default is 64bit\n",
        "tensor = torch.ones(7)\n",
        "numpy_tensor = tensor.double().numpy()\n",
        "print(tensor)\n",
        "print(tensor.dtype)\n",
        "print(numpy_tensor)\n",
        "print(numpy_tensor.dtype)"
      ],
      "metadata": {
        "colab": {
          "base_uri": "https://localhost:8080/"
        },
        "id": "ydRWw-0MAW2o",
        "outputId": "9070d182-34ff-426f-b505-adb2fa30d162"
      },
      "execution_count": 61,
      "outputs": [
        {
          "output_type": "stream",
          "name": "stdout",
          "text": [
            "tensor([1., 1., 1., 1., 1., 1., 1.])\n",
            "torch.float32\n",
            "[1. 1. 1. 1. 1. 1. 1.]\n",
            "float64\n"
          ]
        }
      ]
    },
    {
      "cell_type": "markdown",
      "source": [
        "## [Reproducibility](https://pytorch.org/docs/stable/notes/randomness.html)\n",
        "- we want to take the randomness out of random\n",
        "- Process of neural network:\n",
        "  1. Start with rand numbers\n",
        "  2. Manipulate using tensor operators\n",
        "  3. Update the rand numbers so that they better represent the desired output\n",
        "  4. Repeat step 2-3 until output is good\n",
        "\n",
        "### Random Seed\n",
        "- This creates a 'flavor' of randomness to help with reproducibility\n",
        "- Essentially the seed produces a random tensor that is reproducible\n"
      ],
      "metadata": {
        "id": "T7b0GwuxAWpo"
      }
    },
    {
      "cell_type": "code",
      "source": [
        "# Create a random seed. This is the 'flavor' of random.\n",
        "# So creating random numbers with '42' will always produce the same random\n",
        "RANDOM_SEED = 42 # 42 is common, but you can really use anything.\n",
        "\n",
        "# Must use the `manual_seed` method before every `.rand` function call\n",
        "torch.manual_seed(RANDOM_SEED)\n",
        "rand_t1 = torch.rand(3, 2, 4)\n",
        "torch.manual_seed(RANDOM_SEED)\n",
        "rand_t2 = torch.rand(3, 2, 4)\n",
        "\n",
        "print(rand_t1)\n",
        "print(rand_t2)\n",
        "print(rand_t1 == rand_t2)"
      ],
      "metadata": {
        "colab": {
          "base_uri": "https://localhost:8080/"
        },
        "id": "QfP4CDdYCown",
        "outputId": "e2263d15-2996-4069-cd47-294b506f791b"
      },
      "execution_count": 66,
      "outputs": [
        {
          "output_type": "stream",
          "name": "stdout",
          "text": [
            "tensor([[[0.8823, 0.9150, 0.3829, 0.9593],\n",
            "         [0.3904, 0.6009, 0.2566, 0.7936]],\n",
            "\n",
            "        [[0.9408, 0.1332, 0.9346, 0.5936],\n",
            "         [0.8694, 0.5677, 0.7411, 0.4294]],\n",
            "\n",
            "        [[0.8854, 0.5739, 0.2666, 0.6274],\n",
            "         [0.2696, 0.4414, 0.2969, 0.8317]]])\n",
            "tensor([[[0.8823, 0.9150, 0.3829, 0.9593],\n",
            "         [0.3904, 0.6009, 0.2566, 0.7936]],\n",
            "\n",
            "        [[0.9408, 0.1332, 0.9346, 0.5936],\n",
            "         [0.8694, 0.5677, 0.7411, 0.4294]],\n",
            "\n",
            "        [[0.8854, 0.5739, 0.2666, 0.6274],\n",
            "         [0.2696, 0.4414, 0.2969, 0.8317]]])\n",
            "tensor([[[True, True, True, True],\n",
            "         [True, True, True, True]],\n",
            "\n",
            "        [[True, True, True, True],\n",
            "         [True, True, True, True]],\n",
            "\n",
            "        [[True, True, True, True],\n",
            "         [True, True, True, True]]])\n"
          ]
        }
      ]
    },
    {
      "cell_type": "markdown",
      "source": [
        "## Running on GPU\n"
      ],
      "metadata": {
        "id": "E-jNb68LESwy"
      }
    },
    {
      "cell_type": "code",
      "source": [],
      "metadata": {
        "id": "bpIvhPSMEMzS"
      },
      "execution_count": null,
      "outputs": []
    }
  ]
}