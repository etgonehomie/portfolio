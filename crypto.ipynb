{
  "metadata": {
    "kernelspec": {
      "name": "python",
      "display_name": "Python (Pyodide)",
      "language": "python"
    },
    "language_info": {
      "codemirror_mode": {
        "name": "python",
        "version": 3
      },
      "file_extension": ".py",
      "mimetype": "text/x-python",
      "name": "python",
      "nbconvert_exporter": "python",
      "pygments_lexer": "ipython3",
      "version": "3.8"
    }
  },
  "nbformat_minor": 4,
  "nbformat": 4,
  "cells": [
    {
      "cell_type": "code",
      "source": "'''\nThis is a README to document the following steps in the DS process:\n1. Initial Problem\n2. Data Extraction\n3. Data Cleaning\n4. Exploratory Data Analysis\n5. Modeling\n6. Training/Testing\n7. Model Performance\n8. Final Insights\nhttps://www.youtube.com/watch?v=ec2vTFopdvg\n'''",
      "metadata": {
        "trusted": true,
        "tags": [],
        "editable": true,
        "slideshow": {
          "slide_type": ""
        }
      },
      "outputs": [],
      "execution_count": null
    },
    {
      "cell_type": "code",
      "source": "'''\n1. Initial Problem: I want to understand if the buzz around a coin affects its price.\n2. Data Extraction\n- Use Coingecko or coinmarketcap API to get the daily price of a coin\n- Use a twitter API or google news API to get the buzz around a coin\n'''",
      "metadata": {
        "trusted": true,
        "tags": [],
        "editable": true,
        "slideshow": {
          "slide_type": ""
        }
      },
      "outputs": [],
      "execution_count": null
    }
  ]
}
